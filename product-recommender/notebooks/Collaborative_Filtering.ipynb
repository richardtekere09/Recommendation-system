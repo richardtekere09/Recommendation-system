{
 "cells": [
  {
   "cell_type": "markdown",
   "id": "12b283cc",
   "metadata": {},
   "source": [
    "Building the Hybrid Recommender with LightFM"
   ]
  },
  {
   "cell_type": "code",
   "execution_count": 1,
   "id": "6103522b",
   "metadata": {},
   "outputs": [
    {
     "name": "stdout",
     "output_type": "stream",
     "text": [
      "Ratings Sample:\n",
      "   userId  movieId  rating  timestamp\n",
      "0       1        1     4.0  964982703\n",
      "1       1        3     4.0  964981247\n",
      "2       1        6     4.0  964982224\n",
      "3       1       47     5.0  964983815\n",
      "4       1       50     5.0  964982931\n",
      "\n",
      "Movies Sample:\n",
      "   movieId                               title  \\\n",
      "0        1                    Toy Story (1995)   \n",
      "1        2                      Jumanji (1995)   \n",
      "2        3             Grumpier Old Men (1995)   \n",
      "3        4            Waiting to Exhale (1995)   \n",
      "4        5  Father of the Bride Part II (1995)   \n",
      "\n",
      "                                        genres  \n",
      "0  Adventure|Animation|Children|Comedy|Fantasy  \n",
      "1                   Adventure|Children|Fantasy  \n",
      "2                               Comedy|Romance  \n",
      "3                         Comedy|Drama|Romance  \n",
      "4                                       Comedy  \n"
     ]
    }
   ],
   "source": [
    "# Ensure numpy and pandas are up-to-date\n",
    "\n",
    "import pandas as pd\n",
    "\n",
    "import os\n",
    "\n",
    "# Check if files exist before loading\n",
    "ratings_path = \"/Users/richard/data/product-recommender/data/raw/ratings.csv\"\n",
    "movies_path = \"/Users/richard/data/product-recommender/data/raw/movies.csv\"\n",
    "\n",
    "ratings = pd.read_csv(ratings_path)\n",
    "movies = pd.read_csv(movies_path)\n",
    "\n",
    "# Always preview data before working with it\n",
    "print(\"Ratings Sample:\")\n",
    "print(ratings.head())\n",
    "\n",
    "print(\"\\nMovies Sample:\")\n",
    "print(movies.head())\n"
   ]
  },
  {
   "cell_type": "markdown",
   "id": "0a1791fd",
   "metadata": {},
   "source": [
    " Clean and Merge\n",
    " We want to:\n",
    "\n",
    "1.Filter out users with too few ratings (to reduce noise)\n",
    "2.Merge movie info into the ratings for hybrid modeling"
   ]
  },
  {
   "cell_type": "code",
   "execution_count": 2,
   "id": "33b9d393",
   "metadata": {},
   "outputs": [],
   "source": [
    "# Keep only users with at least 5 ratings\n",
    "ratings_filtered = ratings.groupby('userId').filter(lambda x: len(x) >= 5)\n",
    "\n",
    "# Merge genres and titles into ratings\n",
    "data = pd.merge(ratings_filtered, movies, on='movieId')\n",
    "\n",
    "# LightFM prefers string IDs\n",
    "data['userId'] = data['userId'].astype(str)\n",
    "data['movieId'] = data['movieId'].astype(str)\n"
   ]
  },
  {
   "cell_type": "markdown",
   "id": "9f66a0f1",
   "metadata": {},
   "source": [
    " Create Content Features with TF-\n",
    "  We need to turn genre  into numerical vectors."
   ]
  },
  {
   "cell_type": "code",
   "execution_count": 5,
   "id": "f683b945",
   "metadata": {},
   "outputs": [
    {
     "name": "stdout",
     "output_type": "stream",
     "text": [
      "0    Adventure Animation Children Comedy Fantasy\n",
      "1                     Adventure Children Fantasy\n",
      "2                                 Comedy Romance\n",
      "3                           Comedy Drama Romance\n",
      "4                                         Comedy\n",
      "Name: genres_cleaned, dtype: object\n",
      "(9742, 24)\n",
      "                  0\n",
      "adventure  0.416846\n",
      "animation  0.516225\n",
      "children   0.504845\n",
      "comedy     0.267586\n",
      "fantasy    0.482990\n"
     ]
    }
   ],
   "source": [
    "from sklearn.feature_extraction.text import TfidfVectorizer\n",
    "\n",
    "# Replace \"|\" with space so TF-IDF treats each genre as a word\n",
    "movies['genres_cleaned'] = movies['genres'].str.replace('|', ' ', regex=False)\n",
    "\n",
    "# Create a TF-IDF matrix for genres\n",
    "vectorizer = TfidfVectorizer()\n",
    "tfidf_matrix = vectorizer.fit_transform(movies['genres_cleaned'])\n",
    "\n",
    "print(movies['genres_cleaned'].head())\n",
    "print(tfidf_matrix.shape)\n",
    "\n",
    "feature_names = vectorizer.get_feature_names_out()\n",
    "\n",
    "# View TF-IDF scores for first movie\n",
    "movie_0_vector = tfidf_matrix[0]\n",
    "df = pd.DataFrame(movie_0_vector.toarray(), columns=feature_names)\n",
    "print(df.T[df.T[0] > 0])\n"
   ]
  },
  {
   "cell_type": "markdown",
   "id": "0ebe9552",
   "metadata": {},
   "source": [
    "### Building the Dataset for LightFM\n",
    "\n",
    "To train a recommendation model using LightFM, we need to prepare the data in a specific format. This involves creating the following components:\n",
    "\n",
    "1. **Mapping of Users and Items**  \n",
    "   - Create unique mappings for user IDs and item (movie) IDs to ensure compatibility with LightFM's requirements.\n",
    "\n",
    "2. **Interactions Matrix**  \n",
    "   - Construct a sparse matrix that represents which users have interacted with which items.  \n",
    "   - Each entry in the matrix indicates whether a user has rated a specific movie (and optionally, the rating value).\n",
    "\n",
    "3. **Item Feature Matrix**  \n",
    "   - Use the TF-IDF vectors generated from the movie genres to create a feature matrix for the items.  \n",
    "   - This matrix provides additional content-based information about the items, which can improve the hybrid recommendation model.\n",
    "\n",
    "These components will serve as the input for training the LightFM model."
   ]
  },
  {
   "cell_type": "code",
   "execution_count": 8,
   "id": "c014fa7c",
   "metadata": {},
   "outputs": [
    {
     "name": "stdout",
     "output_type": "stream",
     "text": [
      "   userId  movieId  rating  timestamp\n",
      "0       1        1     4.0  964982703\n",
      "1       1        3     4.0  964981247\n",
      "2       1        6     4.0  964982224\n",
      "3       1       47     5.0  964983815\n",
      "4       1       50     5.0  964982931\n"
     ]
    }
   ],
   "source": [
    "import pandas as pd\n",
    "\n",
    "# Load ratings data\n",
    "data = pd.read_csv('../data/raw/ratings.csv')\n",
    "\n",
    "# Preview the data\n",
    "print(data.head())\n",
    "\n",
    "from lightfm import LightFM\n",
    "from lightfm.data import Dataset\n",
    "\n",
    "dataset = Dataset()\n",
    "\n",
    "# Register all users and items\n",
    "dataset.fit(data['userId'], data['movieId'])\n",
    "\n",
    "# Build interactions matrix\n",
    "(interactions, weights) = dataset.build_interactions(\n",
    "    [(row['userId'], row['movieId']) for _, row in data.iterrows()]\n",
    ")\n"
   ]
  },
  {
   "cell_type": "markdown",
   "id": "f7075465",
   "metadata": {},
   "source": []
  },
  {
   "cell_type": "markdown",
   "id": "4dd209f7",
   "metadata": {},
   "source": [
    "### Map TF-IDF to LightFM Items\n",
    "LightFM needs item features in the same order as its internal item IDs.\n"
   ]
  },
  {
   "cell_type": "code",
   "execution_count": 9,
   "id": "1afbbe0c",
   "metadata": {},
   "outputs": [],
   "source": [
    "from scipy.sparse import csr_matrix\n",
    "import numpy as np\n",
    "\n",
    "# Map movieId to LightFM internal item ID\n",
    "item_mapping = dataset.mapping()[2]  # movieId → LightFM ID\n",
    "movie_id_map = dict(zip(movies['movieId'], range(len(movies))))  # movieId → row in TF-IDF\n",
    "\n",
    "# Align TF-IDF rows with LightFM item IDs\n",
    "item_features = []\n",
    "for movieId, lightfm_id in item_mapping.items():\n",
    "    tfidf_row = tfidf_matrix[movie_id_map[movieId]]\n",
    "    item_features.append(tfidf_row.toarray())\n",
    "\n",
    "item_features_matrix = csr_matrix(np.vstack(item_features))\n"
   ]
  },
  {
   "cell_type": "markdown",
   "id": "f5732402",
   "metadata": {},
   "source": [
    " Train the Hybrid LightFM Model"
   ]
  },
  {
   "cell_type": "code",
   "execution_count": 10,
   "id": "86611c05",
   "metadata": {},
   "outputs": [
    {
     "data": {
      "text/plain": [
       "<lightfm.lightfm.LightFM at 0x11eb79370>"
      ]
     },
     "execution_count": 10,
     "metadata": {},
     "output_type": "execute_result"
    }
   ],
   "source": [
    "model = LightFM(loss='warp', no_components=32)  # You can also try 'bpr' or 'logistic'\n",
    "\n",
    "# Train with both interactions and item features\n",
    "model.fit(interactions, item_features=item_features_matrix, epochs=10, num_threads=4)\n"
   ]
  },
  {
   "cell_type": "markdown",
   "id": "c3618452",
   "metadata": {},
   "source": [
    "### Generate Recommendations"
   ]
  },
  {
   "cell_type": "code",
   "execution_count": 36,
   "id": "141d81ed",
   "metadata": {},
   "outputs": [
    {
     "name": "stdout",
     "output_type": "stream",
     "text": [
      "Recommended movies for user 1:\n",
      "['Super Mario Bros. (1993)' 'Young Sherlock Holmes (1985)'\n",
      " 'Wiz, The (1978)' 'Chitty Chitty Bang Bang (1968)'\n",
      " 'New Adventures of Pippi Longstocking, The (1988)']\n"
     ]
    }
   ],
   "source": [
    "def recommend(user_id, N=5):\n",
    "    user_id_map = dataset.mapping()[0]  # userId → LightFM ID\n",
    "    item_id_map = dataset.mapping()[2]  # movieId → LightFM ID\n",
    "    reverse_item_map = {v: k for k, v in item_id_map.items()}\n",
    "\n",
    "    # Check if user_id exists in the mapping\n",
    "    if user_id not in user_id_map:\n",
    "        print(f\"User ID {user_id} not found in the mapping.\")\n",
    "        return []\n",
    "\n",
    "    user_x = user_id_map[user_id]\n",
    "    scores = model.predict(user_ids=user_x,\n",
    "                           item_ids=np.arange(len(item_id_map)),\n",
    "                           item_features=item_features_matrix)\n",
    "\n",
    "    top_items = np.argsort(-scores)[:N]\n",
    "    top_movie_ids = [reverse_item_map[i] for i in top_items]\n",
    "\n",
    "    return movies[movies['movieId'].isin(top_movie_ids)]['title'].values\n",
    "\n",
    "print(\"Recommended movies for user 1:\")\n",
    "print(recommend(1, N=5))\n",
    "\n",
    "\n"
   ]
  },
  {
   "cell_type": "code",
   "execution_count": 42,
   "id": "e5d8c4cc",
   "metadata": {},
   "outputs": [
    {
     "name": "stdout",
     "output_type": "stream",
     "text": [
      "[1, 2, 3, 4, 5]\n"
     ]
    }
   ],
   "source": [
    "print(list(user_id_map.keys())[:5])\n"
   ]
  },
  {
   "cell_type": "code",
   "execution_count": 71,
   "id": "79f53f95",
   "metadata": {},
   "outputs": [
    {
     "name": "stdout",
     "output_type": "stream",
     "text": [
      "Recommended movies for user 1:\n",
      "- Super Mario Bros. (1993)\n",
      "- Young Sherlock Holmes (1985)\n",
      "- Wiz, The (1978)\n",
      "- Chitty Chitty Bang Bang (1968)\n",
      "- New Adventures of Pippi Longstocking, The (1988)\n"
     ]
    }
   ],
   "source": [
    "# Clean genres\n",
    "movies['genres_cleaned'] = movies['genres'].str.replace('|', ' ', regex=False)\n",
    "\n",
    "# Fit TF-IDF vectorizer\n",
    "vectorizer = TfidfVectorizer()\n",
    "tfidf_matrix = vectorizer.fit_transform(movies['genres_cleaned'])\n",
    "\n",
    "# Map movieId to index in tfidf_matrix\n",
    "movie_id_to_index = dict(zip(movies['movieId'], range(len(movies))))\n",
    "\n",
    "# Retrieve item mapping from dataset\n",
    "_, _, item_map, _ = dataset.mapping()\n",
    "item_id_to_index = {item: index for item, index in item_map.items()}\n",
    "\n",
    "# Align TF-IDF rows with LightFM item IDs\n",
    "item_features_list = []\n",
    "for item_id in item_map:\n",
    "    tfidf_index = movie_id_to_index.get(item_id)\n",
    "    if tfidf_index is not None:\n",
    "        item_features_list.append(tfidf_matrix[tfidf_index].toarray())\n",
    "    else:\n",
    "        # If no TF-IDF vector is found, append a zero vector\n",
    "        item_features_list.append(np.zeros((1, tfidf_matrix.shape[1])))\n",
    "\n",
    "# Stack into a single csr_matrix\n",
    "item_features_array = np.vstack(item_features_list)\n",
    "item_features = csr_matrix(item_features_array)\n",
    "\n",
    "def recommend(user_id, model, interactions, item_features, user_map, item_map, item_id_reverse_map, N=5):\n",
    "    \"\"\"\n",
    "    Generate top N recommendations for a given user.\n",
    "    \"\"\"\n",
    "    user_x = user_map[user_id]\n",
    "    scores = model.predict(user_ids=user_x,\n",
    "                           item_ids=np.arange(len(item_map)),\n",
    "                           item_features=item_features)\n",
    "\n",
    "    top_items = np.argsort(-scores)[:N]\n",
    "    recommended_movie_ids = [item_id_reverse_map[i] for i in top_items]\n",
    "    return recommended_movie_ids\n",
    "\n",
    "# Retrieve mappings\n",
    "user_map, _, item_map, _ = dataset.mapping()\n",
    "item_id_reverse_map = {v: k for k, v in item_map.items()}\n",
    "\n",
    "# Select a sample user\n",
    "\n",
    "sample_user = list(user_map.keys())[0]\n",
    "\n",
    "# Generate recommendations\n",
    "recommended_ids = recommend(sample_user, model, interactions, item_features, user_map, item_map, item_id_reverse_map)\n",
    "\n",
    "# Map back to movie titles\n",
    "recommended_titles = movies[movies['movieId'].isin(recommended_ids)]['title'].values\n",
    "\n",
    "# Display recommendations\n",
    "print(f\"Recommended movies for user {sample_user}:\")\n",
    "for title in recommended_titles:\n",
    "    print(f\"- {title}\")\n",
    "\n"
   ]
  },
  {
   "cell_type": "code",
   "execution_count": null,
   "id": "43613276",
   "metadata": {},
   "outputs": [],
   "source": []
  },
  {
   "cell_type": "code",
   "execution_count": 72,
   "id": "cc8af3a3",
   "metadata": {},
   "outputs": [
    {
     "name": "stdout",
     "output_type": "stream",
     "text": [
      "\n",
      "Top 5 recommendations for User 1:\n",
      "1. Super Mario Bros. (1993)\n",
      "2. Young Sherlock Holmes (1985)\n",
      "3. Wiz, The (1978)\n",
      "4. Chitty Chitty Bang Bang (1968)\n",
      "5. New Adventures of Pippi Longstocking, The (1988)\n",
      "\n",
      "Top 5 recommendations for User 2:\n",
      "1. Dark Knight, The (2008)\n",
      "2. Eagle Eye (2008)\n",
      "3. Fast Five (Fast and the Furious 5, The) (2011)\n",
      "4. Good Day to Die Hard, A (2013)\n",
      "5. Fast & Furious 6 (Fast and the Furious 6, The) (2013)\n",
      "\n",
      "Top 5 recommendations for User 3:\n",
      "1. Krull (1983)\n",
      "2. Godzilla vs. Mothra (Mosura tai Gojira) (1964)\n",
      "3. Batman v Superman: Dawn of Justice (2016)\n",
      "4. Rogue One: A Star Wars Story (2016)\n",
      "5. Marvel One-Shot: Agent Carter (2013)\n"
     ]
    }
   ],
   "source": [
    "num_users = 3\n",
    "top_n = 5\n",
    "\n",
    "# Get the list of user IDs\n",
    "user_ids = list(user_map.keys())[:num_users]\n",
    "\n",
    "for user_id in user_ids:\n",
    "    # Get the internal LightFM user ID\n",
    "    user_x = user_map[user_id]\n",
    "\n",
    "    # Predict scores for all items for the current user\n",
    "    scores = model.predict(user_ids=user_x,\n",
    "                           item_ids=np.arange(len(item_map)),\n",
    "                           item_features=item_features)\n",
    "\n",
    "    # Get the indices of the top N scores\n",
    "    top_items = np.argsort(-scores)[:top_n]\n",
    "\n",
    "    # Map internal item IDs back to original movie IDs\n",
    "    recommended_movie_ids = [item_id_reverse_map[i] for i in top_items]\n",
    "\n",
    "    # Retrieve movie titles\n",
    "    recommended_titles = movies[movies['movieId'].isin(recommended_movie_ids)]['title'].values\n",
    "\n",
    "    # Display recommendations\n",
    "    print(f\"\\nTop {top_n} recommendations for User {user_id}:\")\n",
    "    for idx, title in enumerate(recommended_titles, start=1):\n",
    "        print(f\"{idx}. {title}\")"
   ]
  }
 ],
 "metadata": {
  "kernelspec": {
   "display_name": ".venv",
   "language": "python",
   "name": "python3"
  },
  "language_info": {
   "codemirror_mode": {
    "name": "ipython",
    "version": 3
   },
   "file_extension": ".py",
   "mimetype": "text/x-python",
   "name": "python",
   "nbconvert_exporter": "python",
   "pygments_lexer": "ipython3",
   "version": "3.12.9"
  }
 },
 "nbformat": 4,
 "nbformat_minor": 5
}
